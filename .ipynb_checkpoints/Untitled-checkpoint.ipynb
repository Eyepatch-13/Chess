{
 "cells": [
  {
   "cell_type": "code",
   "execution_count": null,
   "id": "0d3f297f",
   "metadata": {
    "scrolled": true
   },
   "outputs": [],
   "source": [
    "import chess\n",
    "from IPython.display import display, Image, clear_output\n",
    "\n",
    "\n",
    "turn = \"White\"\n",
    "winner = None\n",
    "board = chess.Board()\n",
    "display(board)\n",
    "\n",
    "def move_input():\n",
    "    global turn\n",
    "    print(f\"Select one of the valid moves.\\nValid moves : {list(map(str,list(board.legal_moves)))}\\n\")\n",
    "    move = input(f\"\\n{turn}'s turn. Enter a valid move \")\n",
    "    move = chess.Move.from_uci(move)\n",
    "    if board.is_legal(move):\n",
    "        board.push(move)\n",
    "        if turn == 'White':\n",
    "            turn = \"Black\"\n",
    "        else:\n",
    "            turn = \"White\"\n",
    "    else:\n",
    "        print(\"Not a legal move. \")\n",
    "        move_input()\n",
    "        \n",
    "display()\n",
    "while True:\n",
    "    if board.is_stalemate() or board.is_fivefold_repetition() or board.is_seventyfive_moves():\n",
    "        winner = \"Draw\"\n",
    "\n",
    "    if board.is_checkmate():\n",
    "        if turn == \"White\":\n",
    "            winner = \"Black\"\n",
    "        else:\n",
    "            winner = \"White\"\n",
    "\n",
    "    elif board.is_check():\n",
    "        print(\"\\nCheck!\")\n",
    "\n",
    "    if winner!=None:\n",
    "        if winner == \"Draw\":\n",
    "            print(\"Draw!\")\n",
    "        else:\n",
    "            print(f\"{winner} wins!\")\n",
    "        break\n",
    "    move_input()\n",
    "    clear()\n",
    "    clear_output(wait = True)\n",
    "    display(board)\n"
   ]
  },
  {
   "cell_type": "code",
   "execution_count": null,
   "id": "98df7083",
   "metadata": {},
   "outputs": [],
   "source": []
  },
  {
   "cell_type": "code",
   "execution_count": null,
   "id": "6f0c3f29",
   "metadata": {},
   "outputs": [],
   "source": []
  }
 ],
 "metadata": {
  "kernelspec": {
   "display_name": "Python 3 (ipykernel)",
   "language": "python",
   "name": "python3"
  },
  "language_info": {
   "codemirror_mode": {
    "name": "ipython",
    "version": 3
   },
   "file_extension": ".py",
   "mimetype": "text/x-python",
   "name": "python",
   "nbconvert_exporter": "python",
   "pygments_lexer": "ipython3",
   "version": "3.11.0"
  }
 },
 "nbformat": 4,
 "nbformat_minor": 5
}
